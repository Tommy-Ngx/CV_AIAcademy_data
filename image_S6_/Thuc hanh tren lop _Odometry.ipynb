{
  "nbformat": 4,
  "nbformat_minor": 0,
  "metadata": {
    "colab": {
      "name": "Odometry.ipynb",
      "provenance": [],
      "collapsed_sections": []
    },
    "kernelspec": {
      "name": "python3",
      "display_name": "Python 3"
    }
  },
  "cells": [
    {
      "cell_type": "markdown",
      "metadata": {
        "id": "YsCZiDDKKlIc"
      },
      "source": [
        "Các thư viện"
      ]
    },
    {
      "cell_type": "code",
      "metadata": {
        "id": "8-dzz1wWKVb_"
      },
      "source": [
        "import numpy as np\r\n",
        "import cv2\r\n",
        "import timeit"
      ],
      "execution_count": null,
      "outputs": []
    },
    {
      "cell_type": "markdown",
      "metadata": {
        "id": "Qs9u5g2PKoLi"
      },
      "source": [
        "Các hàm"
      ]
    },
    {
      "cell_type": "code",
      "metadata": {
        "id": "bhsvSIPYKsin"
      },
      "source": [
        "def getAbsoluteScale(f, frame_id):\r\n",
        "      x_pre, y_pre, z_pre = f[frame_id-1][3], f[frame_id-1][7], f[frame_id-1][11]\r\n",
        "      x    , y    , z     = f[frame_id][3], f[frame_id][7], f[frame_id][11]\r\n",
        "      scale = np.sqrt((x-x_pre)**2 + (y-y_pre)**2 + (z-z_pre)**2)\r\n",
        "      return x, y, z, scale"
      ],
      "execution_count": 2,
      "outputs": []
    },
    {
      "cell_type": "code",
      "metadata": {
        "id": "XYzyLcQFKt2a"
      },
      "source": [
        "def featureTracking(img_1, img_2, p1):\r\n",
        "\r\n",
        "    lk_params = dict( winSize  = (21,21),\r\n",
        "                      maxLevel = 3,\r\n",
        "                      criteria = (cv2.TERM_CRITERIA_EPS | cv2.TERM_CRITERIA_COUNT, 30, 0.01))\r\n",
        "\r\n",
        "    p2, st, err = cv2.calcOpticalFlowPyrLK(img_1, img_2, p1, None, **lk_params)\r\n",
        "    st = st.reshape(st.shape[0])\r\n",
        "    ##find good one\r\n",
        "    p1 = p1[st==1]\r\n",
        "    p2 = p2[st==1]\r\n",
        "\r\n",
        "    return p1,p2"
      ],
      "execution_count": 4,
      "outputs": []
    },
    {
      "cell_type": "code",
      "metadata": {
        "id": "IOqxyL43LF_g"
      },
      "source": [
        "def featureDetection():\r\n",
        "    thresh = dict(threshold=25, nonmaxSuppression=True);\r\n",
        "    fast = cv2.FastFeatureDetector_create(**thresh)\r\n",
        "    return fast"
      ],
      "execution_count": 5,
      "outputs": []
    },
    {
      "cell_type": "code",
      "metadata": {
        "id": "tFJVzjbBLJ_C"
      },
      "source": [
        "def getTruePose():\r\n",
        "    file = '00.txt'\r\n",
        "    return np.genfromtxt(file, delimiter=' ',dtype=None)"
      ],
      "execution_count": 6,
      "outputs": []
    },
    {
      "cell_type": "code",
      "metadata": {
        "id": "9fAGEP5zLMd2"
      },
      "source": [
        "#Đọc ảnh vào\r\n",
        "def getImages(i):\r\n",
        "    ##1YOUR CODE HERE###\r\n",
        "    pass\r\n",
        "    ##END YOUR CODE###"
      ],
      "execution_count": 7,
      "outputs": []
    },
    {
      "cell_type": "code",
      "metadata": {
        "id": "dWowUBWjLNz1"
      },
      "source": [
        "#Tính ma trận K\r\n",
        "def getK():\r\n",
        "    return   np.array([[7.188560000000e+02, 0, 6.071928000000e+02],\r\n",
        "              [0, 7.188560000000e+02, 1.852157000000e+02],\r\n",
        "              [0, 0, 1]])"
      ],
      "execution_count": 8,
      "outputs": []
    },
    {
      "cell_type": "markdown",
      "metadata": {
        "id": "RFz2vBUELUvy"
      },
      "source": [
        "Khởi tạo\r\n"
      ]
    },
    {
      "cell_type": "code",
      "metadata": {
        "id": "qqF_Mkz6LWNy"
      },
      "source": [
        "#initialization\r\n",
        "ground_truth =getTruePose()\r\n",
        "img_1 = getImages(0)\r\n",
        "img_2 = getImages(1)\r\n",
        "\r\n",
        "if len(img_1) == 3:\r\n",
        "\tgray_1 = cv2.cvtColor(img_1, cv2.COLOR_BGR2GRAY)\r\n",
        "\tgray_2 = cv2.cvtColor(img_2, cv2.COLOR_BGR2GRAY)\r\n",
        "else:\r\n",
        "\tgray_1 = img_1\r\n",
        "\tgray_2 = img_2\r\n"
      ],
      "execution_count": null,
      "outputs": []
    },
    {
      "cell_type": "markdown",
      "metadata": {
        "id": "kdOBqZmaLXWa"
      },
      "source": [
        "find the detector"
      ]
    },
    {
      "cell_type": "code",
      "metadata": {
        "id": "z81Q04CwLb-h"
      },
      "source": [
        "#find the detector\r\n",
        "##2 YOUR CODE HERE###\r\n",
        "pass\r\n",
        "##END YOUR CODE###\r\n",
        "kp1      = detector.detect(img_1)\r\n",
        "p1       = np.array([ele.pt for ele in kp1],dtype='float32')\r\n",
        "p1, p2   = featureTracking(gray_1, gray_2, p1)"
      ],
      "execution_count": null,
      "outputs": []
    },
    {
      "cell_type": "markdown",
      "metadata": {
        "id": "LDEBaLlGLiQb"
      },
      "source": [
        "Camera parameters\r\n"
      ]
    },
    {
      "cell_type": "code",
      "metadata": {
        "id": "ABhJn9xOLitc"
      },
      "source": [
        "fc = 718.8560\r\n",
        "pp = (607.1928, 185.2157)\r\n",
        "K  = getK()\r\n",
        "#tìm ma trận Fundalmental E, mask =?\r\n",
        "##3YOUR CODE HERE###\r\n",
        "pass\r\n",
        "##END YOUR CODE###\r\n",
        "_, R, t, mask = cv2.recoverPose(E, p2, p1,focal=fc, pp = pp);"
      ],
      "execution_count": null,
      "outputs": []
    },
    {
      "cell_type": "markdown",
      "metadata": {
        "id": "ZYsg_55FLll6"
      },
      "source": [
        "initialize some parameters"
      ]
    },
    {
      "cell_type": "code",
      "metadata": {
        "id": "x5QpqNDdLoOS"
      },
      "source": [
        "MAX_FRAME \t  = 4000\r\n",
        "MIN_NUM_FEAT  = 1500\r\n",
        "\r\n",
        "preFeature = p2\r\n",
        "preImage   = gray_2\r\n",
        "\r\n",
        "R_f = R\r\n",
        "t_f = t\r\n",
        "\r\n",
        "start = timeit.default_timer()\r\n",
        "\r\n",
        "traj = np.zeros((600, 600, 3), dtype=np.uint8)\r\n",
        "\r\n",
        "maxError = 0"
      ],
      "execution_count": null,
      "outputs": []
    },
    {
      "cell_type": "markdown",
      "metadata": {
        "id": "1fBwb4nLLrb6"
      },
      "source": [
        "play image sequences"
      ]
    },
    {
      "cell_type": "code",
      "metadata": {
        "id": "miM-RAARLt0j"
      },
      "source": [
        "for numFrame in range(2, MAX_FRAME):\r\n",
        "\r\n",
        "    print(numFrame)\r\n",
        "\r\n",
        "    if (len(preFeature) < MIN_NUM_FEAT):\r\n",
        "        feature   = detector.detect(preImage)\r\n",
        "        preFeature = np.array([ele.pt for ele in feature],dtype='float32')\r\n",
        "\r\n",
        "    #filename = imgs.format(numFrame)\r\n",
        "    #print(filename)\r\n",
        "    curImage_c = getImages(numFrame)\r\n",
        "\r\n",
        "    if len(curImage_c) == 3:\r\n",
        "          curImage = cv2.cvtColor(currImage_c, cv2.COLOR_BGR2GRAY)\r\n",
        "    else:\r\n",
        "          curImage = curImage_c\r\n",
        "    \r\n",
        "    kp1 = detector.detect(curImage);\r\n",
        "    # tính preFeature, curFeature=???\r\n",
        "    ##4 YOUR CODE HERE###\r\n",
        "    pass\r\n",
        "    ##END YOUR CODE###\r\n",
        "\r\n",
        "    \r\n",
        "    #Tính ma trận fundalmental E và mask\r\n",
        "    ##5 YOUR CODE HERE###\r\n",
        "    pass\r\n",
        "    ##END YOUR CODE###\r\n",
        "    _, R, t, mask = cv2.recoverPose(E, curFeature, preFeature, focal=fc, pp = pp);\r\n",
        "\r\n",
        "    truth_x, truth_y, truth_z, absolute_scale = getAbsoluteScale(ground_truth, numFrame)\r\n",
        "\r\n",
        "    if absolute_scale > 0.1:  \r\n",
        "        t_f = t_f + absolute_scale*R_f.dot(t)\r\n",
        "        R_f = R.dot(R_f)\r\n",
        "\r\n",
        "    preImage = curImage\r\n",
        "    preFeature = curFeature\r\n",
        "    \r\n",
        "\r\n",
        "    ####Visualization of the result\r\n",
        "    draw_x, draw_y = int(t_f[0]) + 300, int(t_f[2]) + 100;\r\n",
        "    draw_tx, draw_ty = int(truth_x) + 300, int(truth_z) + 100\r\n",
        "\r\n",
        "    curError = np.sqrt((t_f[0]-truth_x)**2 + (t_f[1]-truth_y)**2 + (t_f[2]-truth_z)**2)\r\n",
        "    print('Current Error: ', curError)\r\n",
        "    if (curError > maxError):\r\n",
        "        maxError = curError\r\n",
        "\r\n",
        "    cv2.circle(traj, (draw_x, draw_y) ,1, (0,0,255), 2);\r\n",
        "    cv2.circle(traj, (draw_tx, draw_ty) ,1, (255,0,0), 2);\r\n",
        "\r\n",
        "    cv2.rectangle(traj, (10, 30), (550, 50), (0,0,0), cv2.FILLED);\r\n",
        "    text = \"Coordinates: x ={0:02f}m y = {1:02f}m z = {2:02f}m\".format(float(t_f[0]), float(t_f[1]), float(t_f[2]));\r\n",
        "    cv2.putText(traj, text, (10,50), cv2.FONT_HERSHEY_PLAIN, 1, (255,255,255), 1, 8);\r\n",
        "\r\n",
        " #   cv2.drawKeypoints(curImage, kp1, curImage_c)\r\n",
        "    # cv2.imshow('image', curImage_c)\r\n",
        "    cv2.imshow( \"Trajectory\", traj );\r\n",
        "    k = cv2.waitKey(1) & 0xFF\r\n",
        "    if k == 27:\r\n",
        "          break\r\n",
        "  \t#time.sleep(1)\r\n",
        "# k = cv2.waitKey(0) & 0xFF\r\n",
        "# if k == 27:\r\n",
        "print('Maximum Error: ', maxError)\r\n",
        "cv2.imwrite('map.png', traj);\r\n",
        "stop = timeit.default_timer()\r\n",
        "print(stop - start)"
      ],
      "execution_count": null,
      "outputs": []
    }
  ]
}