{
 "cells": [
  {
   "cell_type": "markdown",
   "metadata": {},
   "source": [
    "\n",
    "# Structure From Motion"
   ]
  },
  {
   "cell_type": "markdown",
   "metadata": {},
   "source": [
    "## Các thư viện"
   ]
  },
  {
   "cell_type": "code",
   "execution_count": null,
   "metadata": {},
   "outputs": [],
   "source": [
    "import os\n",
    "import cv2\n",
    "import numpy as np\n",
    "from utils.bundleAjust import bundleAdjustment\n",
    "from utils.dense import denseMatch, denseReconstruction, outputPly\n",
    "from utils.fundamental import default, implementacionRansac\n",
    "from utils.getPose import getPose\n",
    "from utils.graph import createGraph, triangulateGraph, showGraph, visualizeDense\n",
    "from utils.mergeGraph import mergeG, removeOutlierPts\n",
    "from utils.paresDescript import getPairSIFT"
   ]
  },
  {
   "cell_type": "code",
   "execution_count": null,
   "metadata": {},
   "outputs": [],
   "source": [
    "#Gộp các Graph\n",
    "def mergeAllGraph(gL,imsize):\n",
    "    ##1 YOUR CODE HERE###\n",
    "    pass\n",
    "    ##END YOUR CODE##"
   ]
  },
  {
   "cell_type": "code",
   "execution_count": null,
   "metadata": {},
   "outputs": [],
   "source": [
    "# Update graph\n",
    "def updateMerged(gA,gB,imsize):\n",
    "    gt = mergeG(gA, gB)\n",
    "    gt = triangulateGraph(gt, imsize)\n",
    "    gt = removeOutlierPts(gt, 10)\n",
    "    return gt"
   ]
  },
  {
   "cell_type": "markdown",
   "metadata": {},
   "source": [
    "## Các tham số"
   ]
  },
  {
   "cell_type": "code",
   "execution_count": null,
   "metadata": {},
   "outputs": [],
   "source": [
    "#---------------------------Thiết lập các tham số\n",
    "    maxSize = 640 # Độ phân giải hình ảnh tối đa\n",
    "    carpetaImagenes = 'toys/'\n",
    "    debug = False\n",
    "    outName = \"jirafa\" #tên kết quả cho file ply (mở bằng mesh lab để xem)\n",
    "    validFile = ['jpg','png','JPG', 'jpeg'] #Các loại ảnh\n",
    "    # Lấy tiêu cự\n",
    "    # TODO tham số này làm việc với ảnh 480x640 tiêu cự Len 4mm\n",
    "    f = 719.5459\n",
    "    # ---------------------------SET PARAMETERS\n",
    "    algoMatrizFundamental = implementacionRansac\n",
    "    graphList = []"
   ]
  },
  {
   "cell_type": "markdown",
   "metadata": {},
   "source": [
    "## Dữ liệu"
   ]
  },
  {
   "cell_type": "code",
   "execution_count": null,
   "metadata": {},
   "outputs": [],
   "source": [
    "#Danh sách ảnh\n",
    "listaArchivos = os.listdir(carpetaImagenes)\n",
    "listaImages = filter(lambda x : x.split('.')[-1] in validFile,listaArchivos)\n",
    "#Mở dữ liệu ảnh\n",
    "listaImages = list(map(lambda x : cv2.imread(carpetaImagenes+x),listaImages))\n",
    "imageSize = listaImages[0].shape\n",
    "print(\"Kích thước ban đầu:\",imageSize)\n",
    "#resize lại ảnh nếu lớn hơn kích thước max\n",
    "if imageSize[0] > maxSize:\n",
    "    ###2 YOUR CODE HERE###\n",
    "    pass\n",
    "    ###END YOUR CODE###"
   ]
  },
  {
   "cell_type": "markdown",
   "metadata": {},
   "source": [
    "Tính ma trận K"
   ]
  },
  {
   "cell_type": "code",
   "execution_count": null,
   "metadata": {},
   "outputs": [],
   "source": [
    "#Tính ma trận K\n",
    "###3 YOUR CODE HERE###\n",
    "pass\n",
    "###END YOUR CODE###"
   ]
  },
  {
   "cell_type": "markdown",
   "metadata": {},
   "source": [
    "Tính đặc trưng SIFT"
   ]
  },
  {
   "cell_type": "code",
   "execution_count": null,
   "metadata": {},
   "outputs": [],
   "source": [
    "graphList = [0 for i in range(len(listaImages)-1)]\n",
    "#Tính toán đặc trưng SIFT\n",
    "#được tính như các ảnh liên tiếp\n",
    "print(\"Bắt đầu tính các cặp SIFT\")\n",
    "for i in range(len(listaImages)-1):\n",
    "    keypointsA,keypointsB = getPairSIFT(listaImages[i],listaImages[i+1],show=debug)\n",
    "\n",
    "\n",
    "    #tính ma trận fundamental\n",
    "    #TODO Lấy phần còn lại\n",
    "    if type(keypointsA[0]) == np.ndarray:\n",
    "        assert(len(keypointsA.shape) == 2)\n",
    "        assert (len(keypointsB.shape) == 2)\n",
    "        pointsA = keypointsA\n",
    "        pointsB = keypointsB\n",
    "    else:\n",
    "        pointsA = np.array([(keypointsA[idx].pt) for idx in range(len(keypointsA))]).reshape(-1, 1, 2)\n",
    "        pointsB = np.array([(keypointsB[idx].pt) for idx in range(len(keypointsB))]).reshape(-1, 1, 2)\n",
    "    pointsA = pointsA[:,[1,0]]\n",
    "    pointsB = pointsB[:, [1, 0]]\n",
    "\n",
    "    #Tính ma trận fundalmental F\n",
    "    ###3 YOUR CODE HERE###\n",
    "    pass\n",
    "    ###END YOUR CODE###\n",
    "    Fmat = F[0]\n",
    "    K = np.array(K)\n",
    "    E = np.dot(np.transpose(K),np.dot(Fmat,K))\n",
    "\n",
    "    # Lấy pose từ camera\n",
    "    ###4 YOUR CODE HERE###\n",
    "    pass\n",
    "    ###END YOUR CODE###\n",
    "\n",
    "    #Tạo biểu đồ\n",
    "    graphList[i] = createGraph(i,i+1,K, pointsA, pointsB, Rtbest, f)\n",
    "\n",
    "    #Triangular\n",
    "    ###5 YOUR CODE HERE###\n",
    "    pass\n",
    "    ###END YOUR CODE###"
   ]
  },
  {
   "cell_type": "markdown",
   "metadata": {},
   "source": [
    "# hiển thị kết quả"
   ]
  },
  {
   "cell_type": "code",
   "execution_count": null,
   "metadata": {},
   "outputs": [],
   "source": [
    "gM = mergeAllGraph(graphList,imageSize)\n",
    "print(\"Merge de grafos finalizado\")\n",
    "#Xem một phần kết quả\n",
    "showGraph(gM,imageSize)    "
   ]
  },
  {
   "cell_type": "markdown",
   "metadata": {},
   "source": [
    "Dense matching"
   ]
  },
  {
   "cell_type": "code",
   "execution_count": null,
   "metadata": {},
   "outputs": [],
   "source": [
    "#Dense matching\n",
    "###6 YOUR CODE HERE###\n",
    "pass\n",
    "###END YOUR CODE###\n",
    "print(\"Finish Dense match\")\n",
    "print(\"Init dense Triangulation\")"
   ]
  },
  {
   "cell_type": "markdown",
   "metadata": {},
   "source": [
    "Dense Reconstruction"
   ]
  },
  {
   "cell_type": "code",
   "execution_count": null,
   "metadata": {},
   "outputs": [],
   "source": [
    "#Dense reconstruction\n",
    "###7 YOUR CODE HERE###\n",
    "pass\n",
    "###END YOUR CODE###\n",
    "print(\"Finish Dense reconstruct\")\n",
    "#Visualize and output\n",
    "###8 YOUR CODE HERE###\n",
    "pass\n",
    "###END YOUR CODE###"
   ]
  }
 ],
 "metadata": {
  "kernelspec": {
   "display_name": "Python 3",
   "language": "python",
   "name": "python3"
  },
  "language_info": {
   "codemirror_mode": {
    "name": "ipython",
    "version": 3
   },
   "file_extension": ".py",
   "mimetype": "text/x-python",
   "name": "python",
   "nbconvert_exporter": "python",
   "pygments_lexer": "ipython3",
   "version": "3.8.5"
  }
 },
 "nbformat": 4,
 "nbformat_minor": 4
}
