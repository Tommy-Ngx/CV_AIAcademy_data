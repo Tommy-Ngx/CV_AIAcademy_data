{
 "cells": [
  {
   "cell_type": "markdown",
   "metadata": {
    "collapsed": true
   },
   "source": [
    "# Assignment 4-1: Scene Classification\n",
    "\n",
    "Để làm quen với việc sử dụng các mô hình phân loại (KNN, Decision Tree, SVM), trong bài tập này ta sẽ thực hành bài toán Scene Classification. Bộ dữ liệu sử dụng trong bài toán là Scene-15. "
   ]
  },
  {
   "cell_type": "code",
   "execution_count": 9,
   "metadata": {
    "collapsed": true
   },
   "outputs": [],
   "source": [
    "import numpy as np\n",
    "import sklearn\n",
    "import pickle"
   ]
  },
  {
   "cell_type": "markdown",
   "metadata": {},
   "source": [
    "Phần trích xuất đặc trưng từ ảnh đã được làm sẵn. Ta sẽ sử dụng đặc trưng GIST, một đặc trưng rất hay được sử dụng trong bài toán scene classification. Trong thư mục bài tập này có 2 files chứa tập dữ liệu: file features.dump chứa các vector đặc trưng trích xuất từ bộ dữ liệu Scene-15, file labels.dump chứa nhãn tương ứng (gồm 15 nhãn):"
   ]
  },
  {
   "cell_type": "code",
   "execution_count": 10,
   "metadata": {},
   "outputs": [
    {
     "name": "stdout",
     "output_type": "stream",
     "text": [
      "<class 'numpy.ndarray'>\n",
      "<class 'numpy.ndarray'>\n",
      "(4485, 960)\n",
      "(4485,)\n"
     ]
    }
   ],
   "source": [
    "features = np.array(pickle.load(open('features.dump', 'rb'), encoding='latin1'))\n",
    "labels = np.array(pickle.load(open('labels.dump', 'rb'), encoding='latin1'))\n",
    "\n",
    "print(type(features))\n",
    "print(type(labels))\n",
    "\n",
    "print(features.shape)\n",
    "print(labels.shape)"
   ]
  },
  {
   "cell_type": "markdown",
   "metadata": {},
   "source": [
    "Tiếp theo ta thực hiện một bước tiền xử lý đơn giản, đó là normalize dữ liệu:"
   ]
  },
  {
   "cell_type": "code",
   "execution_count": 11,
   "metadata": {},
   "outputs": [
    {
     "name": "stdout",
     "output_type": "stream",
     "text": [
      "0.0616715\n",
      "0.0483511\n",
      "-9.99108e-08\n",
      "1.0\n"
     ]
    }
   ],
   "source": [
    "from sklearn.preprocessing import StandardScaler\n",
    "scaler = StandardScaler()\n",
    "\n",
    "print(np.mean(features))\n",
    "print(np.std(features))\n",
    "features = scaler.fit_transform(features)\n",
    "print(np.mean(features))\n",
    "print(np.std(features))"
   ]
  },
  {
   "cell_type": "markdown",
   "metadata": {},
   "source": [
    "Ta có thể thấy rằng bộ dữ liệu gồm 4485 mẫu dữ liệu. Mảng features là một ma trận 2 chiều kích thước 4485 x 960. Mỗi hàng của ma trận này là một vector đặc trưng 960 chiều (sử dụng đặc trưng GIST) của một ảnh. Mảng labels là một vector gồm 4485 phần tử, mỗi phần tử là một số nguyên trong khoảng [0, 14] miêu tả nhãn của mẫu tương ứng trong mảng features.\n",
    "\n",
    "Ta sẽ chia tập dữ liệu thành 2 phần: tập dữ liệu huấn luyện (training set) và tập dữ liệu kiểm tra (testing set):"
   ]
  },
  {
   "cell_type": "code",
   "execution_count": 12,
   "metadata": {},
   "outputs": [
    {
     "name": "stdout",
     "output_type": "stream",
     "text": [
      "Number of training data:  3588\n",
      "Number of testing data:  897\n"
     ]
    }
   ],
   "source": [
    "from sklearn.model_selection import train_test_split\n",
    "x_train, x_test,  y_train, y_test = train_test_split(features, labels, test_size=0.2)\n",
    "print('Number of training data: ', x_train.shape[0])\n",
    "print('Number of testing data: ', x_test.shape[0])"
   ]
  },
  {
   "cell_type": "markdown",
   "metadata": {},
   "source": [
    "## Bài tập 1: Thống kê dữ liệu\n",
    "\n",
    "Việc chia tập dữ liệu thành 2 phần (training set và testing set) là hiệu quả nếu như phân bố dữ liệu ở các lớp của 2 tập và toàn bộ dữ liệu là tương đồng nhau. Hãy viết hàm statistic(y) dưới đây, nhận đầu vào là vector label của tập training hoặc testing, hàm trả về một vector gồm 15 phần tử tương ứng là số lượng mẫu dữ liệu thuộc từng lớp của bài toán:"
   ]
  },
  {
   "cell_type": "code",
   "execution_count": 13,
   "metadata": {
    "collapsed": true
   },
   "outputs": [],
   "source": [
    "def statistic(y):\n",
    "    cnt = np.zeros(15)\n",
    "    \n",
    "    #### YOUR CODE HERE ####\n",
    "    for i in range(y.shape[0]):\n",
    "        cnt[y[i]] += 1\n",
    "    #### END YOUR CODE #####\n",
    "    return cnt"
   ]
  },
  {
   "cell_type": "code",
   "execution_count": 14,
   "metadata": {},
   "outputs": [
    {
     "data": {
      "image/png": "[encoded data removed]",
      "text/plain": [
       "<matplotlib.figure.Figure at 0x2b7d75f26d8>"
      ]
     },
     "metadata": {},
     "output_type": "display_data"
    }
   ],
   "source": [
    "c_train = statistic(y_train)\n",
    "c_test = statistic(y_test)\n",
    "c_all = statistic(labels)\n",
    "\n",
    "import matplotlib.pyplot as plt\n",
    "\n",
    "plt.subplot(3, 1, 1), plt.bar(range(15), c_train, align='center', alpha=0.5)\n",
    "plt.subplot(3, 1, 2), plt.bar(range(15), c_test, align='center', alpha=0.5)\n",
    "plt.subplot(3, 1, 3), plt.bar(range(15), c_all, align='center', alpha=0.5)\n",
    "plt.show()"
   ]
  },
  {
   "cell_type": "markdown",
   "metadata": {},
   "source": [
    "## Bài tập 2: Xây dựng các bộ phân loại sử dụng sklearn\n",
    "\n",
    "Trong bài tập này ta sẽ xây dựng các bộ phân loại KNN, Decision Tree, SVM cho bộ dữ liệu đề cập ở trên:"
   ]
  },
  {
   "cell_type": "code",
   "execution_count": 15,
   "metadata": {
    "collapsed": true
   },
   "outputs": [],
   "source": [
    "from sklearn.neighbors import KNeighborsClassifier\n",
    "from sklearn.tree import DecisionTreeClassifier\n",
    "from sklearn.svm import SVC\n",
    "\n",
    "from sklearn.model_selection import GridSearchCV"
   ]
  },
  {
   "cell_type": "markdown",
   "metadata": {},
   "source": [
    "Thư viện scikit-learn đã hỗ trợ các bộ phân loại này, hầu hết các class phân loại trong sklearn đều có những phương thức sau:\n",
    "- fit(X, y): Fit the model using X as training data and y as target values\n",
    "- predict(X): Predict the class labels for the provided data\n",
    "- predict_proba(X): Return probability estimates for the test data X (class SVM.SVC không có phương thức này)\n",
    "- score(X, y): Returns the mean accuracy on the given test data and labels\n",
    "\n",
    "\n",
    "### Bài tập 2.1: K-Nearest Neightbors:\n",
    "Sau đây ta sẽ làm thử với thuật toán K-Nearest Neighbors:"
   ]
  },
  {
   "cell_type": "code",
   "execution_count": 16,
   "metadata": {},
   "outputs": [
    {
     "name": "stdout",
     "output_type": "stream",
     "text": [
      "KNeighborsClassifier(algorithm='kd_tree', leaf_size=30, metric='minkowski',\n",
      "           metric_params=None, n_jobs=1, n_neighbors=1, p=2,\n",
      "           weights='uniform')\n",
      "0.9997212932\n",
      "0.615384615385\n"
     ]
    }
   ],
   "source": [
    "knn = KNeighborsClassifier(n_neighbors=1, algorithm='kd_tree')\n",
    "print(knn)\n",
    "\n",
    "knn.fit(x_train, y_train)\n",
    "print(knn.score(x_train, y_train))\n",
    "print(knn.score(x_test, y_test))"
   ]
  },
  {
   "cell_type": "markdown",
   "metadata": {},
   "source": [
    "Ngoài ra, ta có thể sử dụng phương pháp GridSearchCV để tìm kiếm hyper parameter tốt nhất cho mô hình:"
   ]
  },
  {
   "cell_type": "code",
   "execution_count": 9,
   "metadata": {},
   "outputs": [
    {
     "name": "stdout",
     "output_type": "stream",
     "text": [
      "GridSearchCV(cv=2, error_score='raise',\n",
      "       estimator=KNeighborsClassifier(algorithm='auto', leaf_size=30, metric='minkowski',\n",
      "           metric_params=None, n_jobs=1, n_neighbors=5, p=2,\n",
      "           weights='uniform'),\n",
      "       fit_params=None, iid=True, n_jobs=-1,\n",
      "       param_grid={'n_neighbors': [1, 2]}, pre_dispatch='2*n_jobs',\n",
      "       refit=True, return_train_score=True, scoring=None, verbose=0)\n"
     ]
    },
    {
     "data": {
      "text/plain": [
       "0.58751393534002228"
      ]
     },
     "execution_count": 9,
     "metadata": {},
     "output_type": "execute_result"
    }
   ],
   "source": [
    "knn = KNeighborsClassifier()\n",
    "\n",
    "# Parameter list for grid searching\n",
    "param = {'n_neighbors': [1, 2]}\n",
    "\n",
    "# Initialize GridSearchCV object\n",
    "gs = GridSearchCV(estimator=knn, param_grid=param, cv=2, n_jobs=-1)\n",
    "print(gs)\n",
    "\n",
    "gs.fit(x_train, y_train)\n",
    "gs.score(x_test, y_test)"
   ]
  },
  {
   "cell_type": "markdown",
   "metadata": {},
   "source": [
    "Tham số tốt nhất của mô hình:"
   ]
  },
  {
   "cell_type": "code",
   "execution_count": 10,
   "metadata": {},
   "outputs": [
    {
     "data": {
      "text/plain": [
       "{'n_neighbors': 1}"
      ]
     },
     "execution_count": 10,
     "metadata": {},
     "output_type": "execute_result"
    }
   ],
   "source": [
    "gs.best_params_"
   ]
  },
  {
   "cell_type": "markdown",
   "metadata": {},
   "source": [
    "Thử lại với class KNN trong sklearn. So sánh kết quả:"
   ]
  },
  {
   "cell_type": "code",
   "execution_count": 11,
   "metadata": {},
   "outputs": [
    {
     "data": {
      "text/plain": [
       "0.58751393534002228"
      ]
     },
     "execution_count": 11,
     "metadata": {},
     "output_type": "execute_result"
    }
   ],
   "source": [
    "knn = KNeighborsClassifier(n_neighbors=1)\n",
    "knn.fit(x_train, y_train)\n",
    "knn.score(x_test, y_test)"
   ]
  },
  {
   "cell_type": "markdown",
   "metadata": {},
   "source": [
    "### Bài tập 2.2: Decision Tree\n",
    "Tương tự như KNN, bạn hãy xây dựng bộ phân loại sử dụng Decision Tree:"
   ]
  },
  {
   "cell_type": "code",
   "execution_count": 12,
   "metadata": {},
   "outputs": [
    {
     "name": "stdout",
     "output_type": "stream",
     "text": [
      "DecisionTreeClassifier(class_weight=None, criterion='gini', max_depth=None,\n",
      "            max_features=None, max_leaf_nodes=None,\n",
      "            min_impurity_decrease=0.0, min_impurity_split=None,\n",
      "            min_samples_leaf=1, min_samples_split=2,\n",
      "            min_weight_fraction_leaf=0.0, presort=False, random_state=None,\n",
      "            splitter='best')\n",
      "1.0\n",
      "0.515050167224\n"
     ]
    }
   ],
   "source": [
    "#### YOUR CODE HERE ####\n",
    "dt = DecisionTreeClassifier()\n",
    "print(dt)\n",
    "\n",
    "dt.fit(x_train, y_train)\n",
    "print(dt.score(x_train, y_train))\n",
    "print(dt.score(x_test, y_test))\n",
    "#### END YOUR CODE #####"
   ]
  },
  {
   "cell_type": "markdown",
   "metadata": {},
   "source": [
    "Sử dụng GridSearchCV, tìm kiếm các hyper parameter:"
   ]
  },
  {
   "cell_type": "code",
   "execution_count": 13,
   "metadata": {},
   "outputs": [
    {
     "name": "stdout",
     "output_type": "stream",
     "text": [
      "GridSearchCV(cv=4, error_score='raise',\n",
      "       estimator=DecisionTreeClassifier(class_weight=None, criterion='gini', max_depth=None,\n",
      "            max_features=None, max_leaf_nodes=None,\n",
      "            min_impurity_decrease=0.0, min_impurity_split=None,\n",
      "            min_samples_leaf=1, min_samples_split=2,\n",
      "            min_weight_fraction_leaf=0.0, presort=False, random_state=None,\n",
      "            splitter='best'),\n",
      "       fit_params=None, iid=True, n_jobs=4,\n",
      "       param_grid={'criterion': ['gini', 'entropy'], 'splitter': ['best', 'random'], 'min_samples_leaf': [1, 5, 10]},\n",
      "       pre_dispatch='2*n_jobs', refit=True, return_train_score=True,\n",
      "       scoring=None, verbose=0)\n"
     ]
    },
    {
     "data": {
      "text/plain": [
       "0.48717948717948717"
      ]
     },
     "execution_count": 13,
     "metadata": {},
     "output_type": "execute_result"
    }
   ],
   "source": [
    "#### YOUR CODE HERE ####\n",
    "dt = DecisionTreeClassifier()\n",
    "param = {'criterion': ['gini', 'entropy'], 'splitter': ['best', 'random'], 'min_samples_leaf': [1, 5, 10]}\n",
    "\n",
    "gs = GridSearchCV(estimator=dt, param_grid=param, cv=4, n_jobs=4)\n",
    "print(gs)\n",
    "\n",
    "gs.fit(x_train, y_train)\n",
    "gs.score(x_test, y_test)\n",
    "#### END YOUR CODE #####"
   ]
  },
  {
   "cell_type": "markdown",
   "metadata": {},
   "source": [
    "Tham số tốt nhất của mô hình:"
   ]
  },
  {
   "cell_type": "code",
   "execution_count": 14,
   "metadata": {},
   "outputs": [
    {
     "data": {
      "text/plain": [
       "{'criterion': 'gini', 'min_samples_leaf': 10, 'splitter': 'random'}"
      ]
     },
     "execution_count": 14,
     "metadata": {},
     "output_type": "execute_result"
    }
   ],
   "source": [
    "#### YOUR CODE HERE ####\n",
    "gs.best_params_\n",
    "#### END YOUR CODE #####"
   ]
  },
  {
   "cell_type": "markdown",
   "metadata": {},
   "source": [
    "Thử lại các tham số tốt nhất với class decision tree của sklearn:"
   ]
  },
  {
   "cell_type": "code",
   "execution_count": 15,
   "metadata": {
    "collapsed": true
   },
   "outputs": [],
   "source": [
    "#### YOUR CODE HERE ####\n",
    "\n",
    "#### END YOUR CODE #####"
   ]
  },
  {
   "cell_type": "markdown",
   "metadata": {},
   "source": [
    "### Bài tập 2.3: Support Vector Machines\n",
    "Tương tự như KNN và Decision Tree, bạn hãy xây dựng bộ phân loại sử dụng SVM:"
   ]
  },
  {
   "cell_type": "code",
   "execution_count": 18,
   "metadata": {},
   "outputs": [
    {
     "name": "stdout",
     "output_type": "stream",
     "text": [
      "SVC(C=20, cache_size=200, class_weight=None, coef0=0.0,\n",
      "  decision_function_shape='ovr', degree=3, gamma='auto', kernel='rbf',\n",
      "  max_iter=-1, probability=False, random_state=None, shrinking=True,\n",
      "  tol=0.001, verbose=False)\n",
      "0.952062430323\n",
      "0.698996655518\n"
     ]
    }
   ],
   "source": [
    "#### YOUR CODE HERE ####\n",
    "svm = SVC(C = 20)\n",
    "print(svm)\n",
    "\n",
    "svm.fit(x_train, y_train)\n",
    "print(svm.score(x_train, y_train))\n",
    "print(svm.score(x_test, y_test))\n",
    "\n",
    "#### END YOUR CODE #####"
   ]
  },
  {
   "cell_type": "markdown",
   "metadata": {},
   "source": [
    "Sử dụng GridSearchCV, tìm kiếm các hyper parameter:"
   ]
  },
  {
   "cell_type": "code",
   "execution_count": 19,
   "metadata": {},
   "outputs": [
    {
     "name": "stdout",
     "output_type": "stream",
     "text": [
      "GridSearchCV(cv=3, error_score='raise',\n",
      "       estimator=SVC(C=1.0, cache_size=200, class_weight=None, coef0=0.0,\n",
      "  decision_function_shape='ovr', degree=3, gamma='auto', kernel='rbf',\n",
      "  max_iter=-1, probability=False, random_state=None, shrinking=True,\n",
      "  tol=0.001, verbose=False),\n",
      "       fit_params=None, iid=True, n_jobs=4,\n",
      "       param_grid={'C': [0.5, 1, 5], 'kernel': ['poly', 'rbf', 'sigmoid']},\n",
      "       pre_dispatch='2*n_jobs', refit=True, return_train_score=True,\n",
      "       scoring=None, verbose=0)\n"
     ]
    },
    {
     "data": {
      "text/plain": [
       "0.69899665551839463"
      ]
     },
     "execution_count": 19,
     "metadata": {},
     "output_type": "execute_result"
    }
   ],
   "source": [
    "#### YOUR CODE HERE ####\n",
    "svm = SVC()\n",
    "param = {'C': [0.5, 1, 5], 'kernel': ['poly', 'rbf', 'sigmoid']}\n",
    "\n",
    "gs = GridSearchCV(estimator=svm, param_grid=param, cv=3, n_jobs=4)\n",
    "print(gs)\n",
    "\n",
    "gs.fit(x_train, y_train)\n",
    "gs.score(x_test, y_test)\n",
    "#### END YOUR CODE #####"
   ]
  },
  {
   "cell_type": "markdown",
   "metadata": {},
   "source": [
    "Tham số tốt nhất của mô hình:"
   ]
  },
  {
   "cell_type": "code",
   "execution_count": 20,
   "metadata": {},
   "outputs": [
    {
     "data": {
      "text/plain": [
       "{'C': 5, 'kernel': 'rbf'}"
      ]
     },
     "execution_count": 20,
     "metadata": {},
     "output_type": "execute_result"
    }
   ],
   "source": [
    "#### YOUR CODE HERE ####\n",
    "gs.best_params_\n",
    "#### END YOUR CODE #####"
   ]
  },
  {
   "cell_type": "markdown",
   "metadata": {},
   "source": [
    "Thử lại các tham số tốt nhất với class SVM của sklearn:"
   ]
  },
  {
   "cell_type": "code",
   "execution_count": null,
   "metadata": {
    "collapsed": true
   },
   "outputs": [],
   "source": [
    "#### YOUR CODE HERE ####\n",
    "\n",
    "#### END YOUR CODE #####"
   ]
  }
 ],
 "metadata": {
  "kernelspec": {
   "display_name": "Python 3",
   "language": "python",
   "name": "python3"
  },
  "language_info": {
   "codemirror_mode": {
    "name": "ipython",
    "version": 3
   },
   "file_extension": ".py",
   "mimetype": "text/x-python",
   "name": "python",
   "nbconvert_exporter": "python",
   "pygments_lexer": "ipython3",
   "version": "3.6.2"
  }
 },
 "nbformat": 4,
 "nbformat_minor": 2
}
